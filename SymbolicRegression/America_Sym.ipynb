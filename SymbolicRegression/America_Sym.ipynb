{
 "cells": [
  {
   "cell_type": "code",
   "execution_count": 1,
   "id": "9518548d-37f4-4e07-8a15-aa7b3ffab35f",
   "metadata": {
    "tags": []
   },
   "outputs": [
    {
     "name": "stdout",
     "output_type": "stream",
     "text": [
      "Requirement already satisfied: pysr in d:\\programdata\\anaconda3\\lib\\site-packages (1.0.0)"
     ]
    },
    {
     "name": "stderr",
     "output_type": "stream",
     "text": [
      "DEPRECATION: Loading egg at c:\\users\\pc\\appdata\\roaming\\python\\python311\\site-packages\\matlabengine-23.2-py3.11.egg is deprecated. pip 23.3 will enforce this behaviour change. A possible replacement is to use pip for package installation..\n"
     ]
    },
    {
     "name": "stdout",
     "output_type": "stream",
     "text": [
      "\n",
      "Requirement already satisfied: sympy<2.0.0,>=1.0.0 in d:\\programdata\\anaconda3\\lib\\site-packages (from pysr) (1.13.1)\n",
      "Requirement already satisfied: pandas<3.0.0,>=0.21.0 in d:\\programdata\\anaconda3\\lib\\site-packages (from pysr) (2.2.3)\n",
      "Requirement already satisfied: numpy<3.0.0,>=1.13.0 in d:\\programdata\\anaconda3\\lib\\site-packages (from pysr) (1.26.4)\n",
      "Requirement already satisfied: scikit_learn<2.0.0,>=1.0.0 in d:\\programdata\\anaconda3\\lib\\site-packages (from pysr) (1.5.1)\n",
      "Requirement already satisfied: juliacall==0.9.23 in d:\\programdata\\anaconda3\\lib\\site-packages (from pysr) (0.9.23)\n",
      "Requirement already satisfied: click<9.0.0,>=7.0.0 in d:\\programdata\\anaconda3\\lib\\site-packages (from pysr) (8.1.7)\n",
      "Requirement already satisfied: setuptools>=50.0.0 in d:\\programdata\\anaconda3\\lib\\site-packages (from pysr) (68.0.0)\n",
      "Requirement already satisfied: juliapkg~=0.1.8 in d:\\programdata\\anaconda3\\lib\\site-packages (from juliacall==0.9.23->pysr) (0.1.15)\n",
      "Requirement already satisfied: colorama in d:\\programdata\\anaconda3\\lib\\site-packages (from click<9.0.0,>=7.0.0->pysr) (0.4.6)\n",
      "Requirement already satisfied: python-dateutil>=2.8.2 in d:\\programdata\\anaconda3\\lib\\site-packages (from pandas<3.0.0,>=0.21.0->pysr) (2.9.0.post0)\n",
      "Requirement already satisfied: pytz>=2020.1 in d:\\programdata\\anaconda3\\lib\\site-packages (from pandas<3.0.0,>=0.21.0->pysr) (2024.1)\n",
      "Requirement already satisfied: tzdata>=2022.7 in d:\\programdata\\anaconda3\\lib\\site-packages (from pandas<3.0.0,>=0.21.0->pysr) (2023.3)\n",
      "Requirement already satisfied: scipy>=1.6.0 in d:\\programdata\\anaconda3\\lib\\site-packages (from scikit_learn<2.0.0,>=1.0.0->pysr) (1.13.1)\n",
      "Requirement already satisfied: joblib>=1.2.0 in d:\\programdata\\anaconda3\\lib\\site-packages (from scikit_learn<2.0.0,>=1.0.0->pysr) (1.4.2)\n",
      "Requirement already satisfied: threadpoolctl>=3.1.0 in d:\\programdata\\anaconda3\\lib\\site-packages (from scikit_learn<2.0.0,>=1.0.0->pysr) (3.5.0)\n",
      "Requirement already satisfied: mpmath<1.4,>=1.1.0 in d:\\programdata\\anaconda3\\lib\\site-packages (from sympy<2.0.0,>=1.0.0->pysr) (1.3.0)\n",
      "Requirement already satisfied: semver~=3.0 in d:\\programdata\\anaconda3\\lib\\site-packages (from juliapkg~=0.1.8->juliacall==0.9.23->pysr) (3.0.2)\n",
      "Requirement already satisfied: six>=1.5 in d:\\programdata\\anaconda3\\lib\\site-packages (from python-dateutil>=2.8.2->pandas<3.0.0,>=0.21.0->pysr) (1.16.0)\n"
     ]
    }
   ],
   "source": [
    "!pip install pysr"
   ]
  },
  {
   "cell_type": "code",
   "execution_count": 1,
   "id": "2376f8b9-bc71-49ee-b7ed-7fad32bf0ddf",
   "metadata": {
    "tags": []
   },
   "outputs": [
    {
     "name": "stdout",
     "output_type": "stream",
     "text": [
      "Detected IPython. Loading juliacall extension. See https://juliapy.github.io/PythonCall.jl/stable/compat/#IPython\n"
     ]
    }
   ],
   "source": [
    "from pysr import PySRRegressor\n",
    "import pandas as pd"
   ]
  },
  {
   "cell_type": "code",
   "execution_count": 2,
   "id": "290b4bcc-9543-45ea-9a32-1a2acc297238",
   "metadata": {
    "tags": []
   },
   "outputs": [],
   "source": [
    "columns = ['S', 'E', 'I', 'R', 'f', 'p']\n",
    "data = pd.read_csv('../Data/Compartment_US.csv')\n",
    "\n",
    "\n",
    "data = data[columns].iloc[270:440]\n",
    "S, E, I, R, f, p = data['S'], data['E'], data['I'], data['R'], data['f'], data['p']"
   ]
  },
  {
   "cell_type": "code",
   "execution_count": 3,
   "id": "289cc610-f503-46d5-b398-85b3cd3e8828",
   "metadata": {
    "scrolled": true,
    "tags": []
   },
   "outputs": [
    {
     "name": "stderr",
     "output_type": "stream",
     "text": [
      "C:\\Users\\13359\\AppData\\Roaming\\Python\\Python311\\site-packages\\pysr\\sr.py:2727: UserWarning: Note: it looks like you are running in Jupyter. The progress bar will be turned off.\n",
      "  warnings.warn(\n"
     ]
    },
    {
     "name": "stdout",
     "output_type": "stream",
     "text": [
      "Compiling Julia backend...\n"
     ]
    },
    {
     "name": "stderr",
     "output_type": "stream",
     "text": [
      "[ Info: Started!\n"
     ]
    },
    {
     "name": "stdout",
     "output_type": "stream",
     "text": [
      "\n",
      "Expressions evaluated per second: 1.950e+05\n",
      "Progress: 1196 / 3100 total iterations (38.581%)\n",
      "════════════════════════════════════════════════════════════════════════════════════════════════════\n",
      "───────────────────────────────────────────────────────────────────────────────────────────────────\n",
      "Complexity  Loss       Score      Equation\n",
      "1           1.330e-04  1.594e+01  y = -0.0051056\n",
      "3           7.946e-05  2.574e-01  y = x₁ * -3.4655\n",
      "5           2.594e-05  5.597e-01  y = 0.017726 - (x₁ * 9.738)\n",
      "7           2.378e-05  4.338e-02  y = 0.017679 - ((x₁ * 12.122) * x₀)\n",
      "9           2.181e-05  4.327e-02  y = 0.017678 - (((x₂ + 0.58244) * 12.123) * x₁)\n",
      "11          1.994e-05  4.483e-02  y = 0.01763 - ((x₂ + x₀) * (x₁ * (x₂ - -8.8431)))\n",
      "13          1.993e-05  3.268e-04  y = 0.01763 - (((x₁ + x₂) + x₀) * (x₁ * (x₂ - -8.8431)))\n",
      "15          1.707e-05  7.738e-02  y = ((x₀ - x₀) + x₀) * ((x₁ * -12.554) - ((x₂ - x₀) * 0.04...\n",
      "                                      3376))\n",
      "───────────────────────────────────────────────────────────────────────────────────────────────────\n",
      "════════════════════════════════════════════════════════════════════════════════════════════════════\n",
      "Press 'q' and then <enter> to stop execution early.\n",
      "\n",
      "Expressions evaluated per second: 1.950e+05\n",
      "Progress: 2463 / 3100 total iterations (79.452%)\n",
      "════════════════════════════════════════════════════════════════════════════════════════════════════\n",
      "───────────────────────────────────────────────────────────────────────────────────────────────────\n",
      "Complexity  Loss       Score      Equation\n",
      "1           1.330e-04  1.594e+01  y = -0.0051056\n",
      "3           7.946e-05  2.574e-01  y = x₁ * -3.4655\n",
      "5           2.594e-05  5.597e-01  y = 0.017726 - (x₁ * 9.738)\n",
      "7           2.378e-05  4.338e-02  y = 0.017679 - ((x₁ * 12.122) * x₀)\n",
      "9           2.004e-05  8.561e-02  y = 0.017779 - (x₁ * ((x₂ + 0.54189) * 12.136))\n",
      "11          1.707e-05  8.019e-02  y = x₀ * ((x₁ * -12.554) - ((x₂ - x₀) * 0.043376))\n",
      "───────────────────────────────────────────────────────────────────────────────────────────────────\n",
      "════════════════════════════════════════════════════════════════════════════════════════════════════\n",
      "Press 'q' and then <enter> to stop execution early.\n",
      "───────────────────────────────────────────────────────────────────────────────────────────────────\n",
      "Complexity  Loss       Score      Equation\n",
      "1           1.330e-04  1.594e+01  y = -0.0051056\n",
      "3           7.946e-05  2.574e-01  y = x₁ * -3.4655\n",
      "5           2.594e-05  5.597e-01  y = (x₁ * -9.7385) + 0.017727\n",
      "7           2.378e-05  4.338e-02  y = 0.017679 - ((x₁ * 12.122) * x₀)\n",
      "9           2.002e-05  8.624e-02  y = (((x₀ + x₂) * -9.1422) * x₁) + 0.017702\n",
      "11          1.707e-05  7.956e-02  y = x₀ * ((x₁ * -12.554) - ((x₂ - x₀) * 0.043376))\n",
      "───────────────────────────────────────────────────────────────────────────────────────────────────\n",
      "  - outputs\\20250625_111303_qeMcUR\\hall_of_fame.csv\n"
     ]
    },
    {
     "name": "stderr",
     "output_type": "stream",
     "text": [
      "[ Info: Final population:\n",
      "[ Info: Results saved to:\n"
     ]
    },
    {
     "data": {
      "text/html": [
       "<style>#sk-container-id-1 {color: black;}#sk-container-id-1 pre{padding: 0;}#sk-container-id-1 div.sk-toggleable {background-color: white;}#sk-container-id-1 label.sk-toggleable__label {cursor: pointer;display: block;width: 100%;margin-bottom: 0;padding: 0.3em;box-sizing: border-box;text-align: center;}#sk-container-id-1 label.sk-toggleable__label-arrow:before {content: \"▸\";float: left;margin-right: 0.25em;color: #696969;}#sk-container-id-1 label.sk-toggleable__label-arrow:hover:before {color: black;}#sk-container-id-1 div.sk-estimator:hover label.sk-toggleable__label-arrow:before {color: black;}#sk-container-id-1 div.sk-toggleable__content {max-height: 0;max-width: 0;overflow: hidden;text-align: left;background-color: #f0f8ff;}#sk-container-id-1 div.sk-toggleable__content pre {margin: 0.2em;color: black;border-radius: 0.25em;background-color: #f0f8ff;}#sk-container-id-1 input.sk-toggleable__control:checked~div.sk-toggleable__content {max-height: 200px;max-width: 100%;overflow: auto;}#sk-container-id-1 input.sk-toggleable__control:checked~label.sk-toggleable__label-arrow:before {content: \"▾\";}#sk-container-id-1 div.sk-estimator input.sk-toggleable__control:checked~label.sk-toggleable__label {background-color: #d4ebff;}#sk-container-id-1 div.sk-label input.sk-toggleable__control:checked~label.sk-toggleable__label {background-color: #d4ebff;}#sk-container-id-1 input.sk-hidden--visually {border: 0;clip: rect(1px 1px 1px 1px);clip: rect(1px, 1px, 1px, 1px);height: 1px;margin: -1px;overflow: hidden;padding: 0;position: absolute;width: 1px;}#sk-container-id-1 div.sk-estimator {font-family: monospace;background-color: #f0f8ff;border: 1px dotted black;border-radius: 0.25em;box-sizing: border-box;margin-bottom: 0.5em;}#sk-container-id-1 div.sk-estimator:hover {background-color: #d4ebff;}#sk-container-id-1 div.sk-parallel-item::after {content: \"\";width: 100%;border-bottom: 1px solid gray;flex-grow: 1;}#sk-container-id-1 div.sk-label:hover label.sk-toggleable__label {background-color: #d4ebff;}#sk-container-id-1 div.sk-serial::before {content: \"\";position: absolute;border-left: 1px solid gray;box-sizing: border-box;top: 0;bottom: 0;left: 50%;z-index: 0;}#sk-container-id-1 div.sk-serial {display: flex;flex-direction: column;align-items: center;background-color: white;padding-right: 0.2em;padding-left: 0.2em;position: relative;}#sk-container-id-1 div.sk-item {position: relative;z-index: 1;}#sk-container-id-1 div.sk-parallel {display: flex;align-items: stretch;justify-content: center;background-color: white;position: relative;}#sk-container-id-1 div.sk-item::before, #sk-container-id-1 div.sk-parallel-item::before {content: \"\";position: absolute;border-left: 1px solid gray;box-sizing: border-box;top: 0;bottom: 0;left: 50%;z-index: -1;}#sk-container-id-1 div.sk-parallel-item {display: flex;flex-direction: column;z-index: 1;position: relative;background-color: white;}#sk-container-id-1 div.sk-parallel-item:first-child::after {align-self: flex-end;width: 50%;}#sk-container-id-1 div.sk-parallel-item:last-child::after {align-self: flex-start;width: 50%;}#sk-container-id-1 div.sk-parallel-item:only-child::after {width: 0;}#sk-container-id-1 div.sk-dashed-wrapped {border: 1px dashed gray;margin: 0 0.4em 0.5em 0.4em;box-sizing: border-box;padding-bottom: 0.4em;background-color: white;}#sk-container-id-1 div.sk-label label {font-family: monospace;font-weight: bold;display: inline-block;line-height: 1.2em;}#sk-container-id-1 div.sk-label-container {text-align: center;}#sk-container-id-1 div.sk-container {/* jupyter's `normalize.less` sets `[hidden] { display: none; }` but bootstrap.min.css set `[hidden] { display: none !important; }` so we also need the `!important` here to be able to override the default hidden behavior on the sphinx rendered scikit-learn.org. See: https://github.com/scikit-learn/scikit-learn/issues/21755 */display: inline-block !important;position: relative;}#sk-container-id-1 div.sk-text-repr-fallback {display: none;}</style><div id=\"sk-container-id-1\" class=\"sk-top-container\"><div class=\"sk-text-repr-fallback\"><pre>PySRRegressor.equations_ = [\n",
       "\t   pick     score                                           equation  \\\n",
       "\t0        0.000000                                      -0.0051056216   \n",
       "\t1        0.257395                                     x1 * -3.465518   \n",
       "\t2  &gt;&gt;&gt;&gt;  0.559727                     (x1 * -9.738531) + 0.017726593   \n",
       "\t3        0.043384              0.017678635 - ((x1 * 12.122476) * x0)   \n",
       "\t4        0.086244       (((x0 + x2) * -9.142232) * x1) + 0.017701594   \n",
       "\t5        0.079562  x0 * ((x1 * -12.554216) - ((x2 - x0) * 0.04337...   \n",
       "\t\n",
       "\t       loss  complexity  \n",
       "\t0  0.000133           1  \n",
       "\t1  0.000079           3  \n",
       "\t2  0.000026           5  \n",
       "\t3  0.000024           7  \n",
       "\t4  0.000020           9  \n",
       "\t5  0.000017          11  \n",
       "]</pre><b>In a Jupyter environment, please rerun this cell to show the HTML representation or trust the notebook. <br />On GitHub, the HTML representation is unable to render, please try loading this page with nbviewer.org.</b></div><div class=\"sk-container\" hidden><div class=\"sk-item\"><div class=\"sk-estimator sk-toggleable\"><input class=\"sk-toggleable__control sk-hidden--visually\" id=\"sk-estimator-id-1\" type=\"checkbox\" checked><label for=\"sk-estimator-id-1\" class=\"sk-toggleable__label sk-toggleable__label-arrow\">PySRRegressor</label><div class=\"sk-toggleable__content\"><pre>PySRRegressor.equations_ = [\n",
       "\t   pick     score                                           equation  \\\n",
       "\t0        0.000000                                      -0.0051056216   \n",
       "\t1        0.257395                                     x1 * -3.465518   \n",
       "\t2  &gt;&gt;&gt;&gt;  0.559727                     (x1 * -9.738531) + 0.017726593   \n",
       "\t3        0.043384              0.017678635 - ((x1 * 12.122476) * x0)   \n",
       "\t4        0.086244       (((x0 + x2) * -9.142232) * x1) + 0.017701594   \n",
       "\t5        0.079562  x0 * ((x1 * -12.554216) - ((x2 - x0) * 0.04337...   \n",
       "\t\n",
       "\t       loss  complexity  \n",
       "\t0  0.000133           1  \n",
       "\t1  0.000079           3  \n",
       "\t2  0.000026           5  \n",
       "\t3  0.000024           7  \n",
       "\t4  0.000020           9  \n",
       "\t5  0.000017          11  \n",
       "]</pre></div></div></div></div></div>"
      ],
      "text/plain": [
       "PySRRegressor.equations_ = [\n",
       "\t   pick     score                                           equation  \\\n",
       "\t0        0.000000                                      -0.0051056216   \n",
       "\t1        0.257395                                     x1 * -3.465518   \n",
       "\t2  >>>>  0.559727                     (x1 * -9.738531) + 0.017726593   \n",
       "\t3        0.043384              0.017678635 - ((x1 * 12.122476) * x0)   \n",
       "\t4        0.086244       (((x0 + x2) * -9.142232) * x1) + 0.017701594   \n",
       "\t5        0.079562  x0 * ((x1 * -12.554216) - ((x2 - x0) * 0.04337...   \n",
       "\t\n",
       "\t       loss  complexity  \n",
       "\t0  0.000133           1  \n",
       "\t1  0.000079           3  \n",
       "\t2  0.000026           5  \n",
       "\t3  0.000024           7  \n",
       "\t4  0.000020           9  \n",
       "\t5  0.000017          11  \n",
       "]"
      ]
     },
     "execution_count": 3,
     "metadata": {},
     "output_type": "execute_result"
    }
   ],
   "source": [
    "x_train = pd.concat([S, I, p], axis=1).values\n",
    "y_train = f\n",
    "model = PySRRegressor(\n",
    "        maxsize=15,\n",
    "        niterations=100,  # < Increase me for better results\n",
    "        binary_operators=[\n",
    "            \"+\",\n",
    "            \"-\", \n",
    "            \"*\",\n",
    "            ],      \n",
    "        elementwise_loss=\"loss(prediction, target) = (prediction - target)^2\",\n",
    "        # ^ Custom loss function (julia syntax)\n",
    "        random_state=1234,\n",
    "        deterministic=True,\n",
    "        parallelism='serial',\n",
    "        model_selection='score',\n",
    "        precision=32,\n",
    "    )\n",
    "model.fit(x_train, y_train)"
   ]
  },
  {
   "cell_type": "code",
   "execution_count": 4,
   "id": "6b24e40b-42a3-4305-9bed-d561f1814bef",
   "metadata": {
    "tags": []
   },
   "outputs": [
    {
     "data": {
      "text/latex": [
       "$\\displaystyle 0.017726593 + x_{1} \\left(-9.738531\\right)$"
      ],
      "text/plain": [
       "0.017726593 + x1*(-9.738531)"
      ]
     },
     "execution_count": 4,
     "metadata": {},
     "output_type": "execute_result"
    }
   ],
   "source": [
    "model.sympy()\n",
    "# model.latex()"
   ]
  },
  {
   "cell_type": "code",
   "execution_count": null,
   "id": "63ecfa0d-cdf1-4342-afda-89c1873fe806",
   "metadata": {},
   "outputs": [],
   "source": []
  }
 ],
 "metadata": {
  "kernelspec": {
   "display_name": "Sym",
   "language": "python",
   "name": "sym"
  },
  "language_info": {
   "codemirror_mode": {
    "name": "ipython",
    "version": 3
   },
   "file_extension": ".py",
   "mimetype": "text/x-python",
   "name": "python",
   "nbconvert_exporter": "python",
   "pygments_lexer": "ipython3",
   "version": "3.11.4"
  }
 },
 "nbformat": 4,
 "nbformat_minor": 5
}
